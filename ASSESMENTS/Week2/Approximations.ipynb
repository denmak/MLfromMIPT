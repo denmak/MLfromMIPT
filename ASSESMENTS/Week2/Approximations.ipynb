{
 "cells": [
  {
   "cell_type": "code",
   "execution_count": 39,
   "metadata": {
    "collapsed": true
   },
   "outputs": [],
   "source": [
    "import numpy as np\n",
    "import scipy as sc\n",
    "import scipy.optimize as opt\n",
    "import re\n",
    "from numpy.linalg import norm\n",
    "import matplotlib.pyplot as plt"
   ]
  },
  {
   "cell_type": "code",
   "execution_count": 35,
   "metadata": {},
   "outputs": [],
   "source": [
    "def fn(x):\n",
    "\treturn np.sin(x / 5.0) * np.exp(x / 10.0) + 5 * np.exp(-x / 2)"
   ]
  },
  {
   "cell_type": "code",
   "execution_count": 36,
   "metadata": {},
   "outputs": [
    {
     "name": "stdout",
     "output_type": "stream",
     "text": [
      "3.25221686527\n0.634133310867\n"
     ]
    }
   ],
   "source": [
    "x=1.0\n",
    "f0= fn(x)\n",
    "print f0\n",
    "x=15\n",
    "f1= fn(x)\n",
    "print f1"
   ]
  },
  {
   "cell_type": "code",
   "execution_count": 37,
   "metadata": {},
   "outputs": [
    {
     "name": "stdout",
     "output_type": "stream",
     "text": [
      "3.25221686527\n1.74684594959\n2.505416407\n0.635221419579\n"
     ]
    },
    {
     "data": {
      "image/png": "[encoded data removed]",
      "text/plain": [
       "<matplotlib.figure.Figure at 0x108d1c050>"
      ]
     },
     "metadata": {},
     "output_type": "display_data"
    }
   ],
   "source": [
    "xs = np.array([1.0,4.0,10.0,15.0])\n",
    "\n",
    "plt.plot(xs,fn(xs))\n",
    " \n",
    "for x in xs:\n",
    "\tprint fn(x)"
   ]
  },
  {
   "cell_type": "code",
   "execution_count": 21,
   "metadata": {},
   "outputs": [
    {
     "name": "stdout",
     "output_type": "stream",
     "text": [
      "[ 4.36264154 -1.29552587  0.19333685 -0.00823565]\n"
     ]
    }
   ],
   "source": [
    "M=[[1.0,1.0,1.0,1.0]\n",
    " ,[1.0,4.0,4.0**2,4.0**3]\n",
    " ,[1.0,10.0,10.0**2,10.0**3]\n",
    " ,[1.0,15.0,15.0**2,15.0**3]]\n",
    "b =[3.25221686527,1.74684594959,2.505416407,0.635221419579]\n",
    "res = np.linalg.solve(M,b)\n",
    "print res"
   ]
  },
  {
   "cell_type": "code",
   "execution_count": 19,
   "metadata": {},
   "outputs": [],
   "source": [
    "f = open('/Users/denmak/Documents/MLfromMIPT/ASSESMENTS/Week2/submission-2.txt','w')\n",
    "f.write('51.98168915 -21.13679571   2.49492415  -0.08760073')\n",
    "f.close()"
   ]
  },
  {
   "cell_type": "code",
   "execution_count": 28,
   "metadata": {},
   "outputs": [
    {
     "data": {
      "text/plain": [
       "64.0"
      ]
     },
     "execution_count": 28,
     "metadata": {},
     "output_type": "execute_result"
    }
   ],
   "source": [
    "4.0**3"
   ]
  },
  {
   "cell_type": "code",
   "execution_count": 29,
   "metadata": {},
   "outputs": [
    {
     "name": "stdout",
     "output_type": "stream",
     "text": [
      "2.05896077257\n2.31503384323\n1.43886403203\n1.74684594959\n1.63628645317\n1.94722128308\n2.07603025628\n2.31617015905\n2.4289683977\n2.505416407\n2.44125118772\n2.25501049732\n1.89608687561\n1.36300334523\n0.634133310867\n-0.287451712004\n-1.3982014999\n-2.67647562871\n-4.09059027287\n-5.59182909399\n-7.1173523407\n-8.58813805444\n-9.91122465289\n-10.9808674663\n-11.6820778832\n-11.8945907488\n-11.4985241037\n-10.3809527205\n-8.44374601811\n"
     ]
    },
    {
     "data": {
      "image/png": "[encoded data removed]",
      "text/plain": [
       "<matplotlib.figure.Figure at 0x108d112d0>"
      ]
     },
     "metadata": {},
     "output_type": "display_data"
    }
   ],
   "source": [
    "xs = np.arange(start=1, stop=30, step=1)\n",
    "\n",
    "plt.plot(xs,fn(xs))\n",
    " \n",
    "for x in xs:\n",
    "\tprint fn(x)"
   ]
  },
  {
   "cell_type": "code",
   "execution_count": 46,
   "metadata": {},
   "outputs": [
    {
     "name": "stdout",
     "output_type": "stream",
     "text": [
      "      fun: 1.745268290344928\n hess_inv: array([[ 5.98750711]])\n      jac: array([ -2.05636024e-06])\n  message: 'Optimization terminated successfully.'\n     nfev: 21\n      nit: 6\n     njev: 7\n   status: 0\n  success: True\n        x: array([ 4.13627619])\n"
     ]
    }
   ],
   "source": [
    "xs = np.array([2.0])#np.arange(start=1, stop=2, step=1)\n",
    "sol = opt.minimize(fn,xs)\n",
    "print sol"
   ]
  },
  {
   "cell_type": "code",
   "execution_count": null,
   "metadata": {},
   "outputs": [],
   "source": [
    ""
   ]
  }
 ],
 "metadata": {
  "kernelspec": {
   "display_name": "Python 2",
   "language": "python",
   "name": "python2"
  },
  "language_info": {
   "codemirror_mode": {
    "name": "ipython",
    "version": 2.0
   },
   "file_extension": ".py",
   "mimetype": "text/x-python",
   "name": "python",
   "nbconvert_exporter": "python",
   "pygments_lexer": "ipython2",
   "version": "2.7.6"
  }
 },
 "nbformat": 4,
 "nbformat_minor": 0
}