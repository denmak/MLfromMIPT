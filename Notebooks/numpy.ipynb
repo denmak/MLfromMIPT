{
 "cells": [
  {
   "cell_type": "code",
   "execution_count": 3,
   "metadata": {
    "collapsed": true
   },
   "outputs": [],
   "source": [
    "import numpy as np"
   ]
  },
  {
   "cell_type": "code",
   "execution_count": 7,
   "metadata": {},
   "outputs": [],
   "source": [
    "x = [1,2,3,4,5]\n",
    "y = np.array(x)"
   ]
  },
  {
   "cell_type": "code",
   "execution_count": 8,
   "metadata": {},
   "outputs": [
    {
     "name": "stdout",
     "output_type": "stream",
     "text": [
      "<type 'list'> [1, 2, 3, 4, 5]\n<type 'numpy.ndarray'> [1 2 3 4 5]\n"
     ]
    }
   ],
   "source": [
    "print type(x),x\n",
    "print type(y),y"
   ]
  },
  {
   "cell_type": "code",
   "execution_count": 9,
   "metadata": {},
   "outputs": [
    {
     "name": "stdout",
     "output_type": "stream",
     "text": [
      "[2, 3]\n"
     ]
    }
   ],
   "source": [
    "print x[1:3]"
   ]
  },
  {
   "cell_type": "code",
   "execution_count": 10,
   "metadata": {},
   "outputs": [
    {
     "name": "stdout",
     "output_type": "stream",
     "text": [
      "[2 3]\n"
     ]
    }
   ],
   "source": [
    "print y[1:3]"
   ]
  },
  {
   "cell_type": "code",
   "execution_count": 19,
   "metadata": {},
   "outputs": [
    {
     "data": {
      "text/plain": [
       "array([    1,     4,     9,    16,    25,    36,    49,    64,    81,\n         100,   121,   144,   169,   196,   225,   256,   289,   324,\n         361,   400,   441,   484,   529,   576,   625,   676,   729,\n         784,   841,   900,   961,  1024,  1089,  1156,  1225,  1296,\n        1369,  1444,  1521,  1600,  1681,  1764,  1849,  1936,  2025,\n        2116,  2209,  2304,  2401,  2500,  2601,  2704,  2809,  2916,\n        3025,  3136,  3249,  3364,  3481,  3600,  3721,  3844,  3969,\n        4096,  4225,  4356,  4489,  4624,  4761,  4900,  5041,  5184,\n        5329,  5476,  5625,  5776,  5929,  6084,  6241,  6400,  6561,\n        6724,  6889,  7056,  7225,  7396,  7569,  7744,  7921,  8100,\n        8281,  8464,  8649,  8836,  9025,  9216,  9409,  9604,  9801, 10000])"
      ]
     },
     "execution_count": 19,
     "metadata": {},
     "output_type": "execute_result"
    }
   ],
   "source": [
    "np.arange(1,101)**2"
   ]
  },
  {
   "cell_type": "code",
   "execution_count": 20,
   "metadata": {},
   "outputs": [
    {
     "data": {
      "text/plain": [
       "array([    0,     1,     4,     9,    16,    25,    36,    49,    64,\n          81,   100,   121,   144,   169,   196,   225,   256,   289,\n         324,   361,   400,   441,   484,   529,   576,   625,   676,\n         729,   784,   841,   900,   961,  1024,  1089,  1156,  1225,\n        1296,  1369,  1444,  1521,  1600,  1681,  1764,  1849,  1936,\n        2025,  2116,  2209,  2304,  2401,  2500,  2601,  2704,  2809,\n        2916,  3025,  3136,  3249,  3364,  3481,  3600,  3721,  3844,\n        3969,  4096,  4225,  4356,  4489,  4624,  4761,  4900,  5041,\n        5184,  5329,  5476,  5625,  5776,  5929,  6084,  6241,  6400,\n        6561,  6724,  6889,  7056,  7225,  7396,  7569,  7744,  7921,\n        8100,  8281,  8464,  8649,  8836,  9025,  9216,  9409,  9604,\n        9801, 10000])"
      ]
     },
     "execution_count": 20,
     "metadata": {},
     "output_type": "execute_result"
    }
   ],
   "source": [
    "np.arange(101)**2"
   ]
  },
  {
   "cell_type": "code",
   "execution_count": 22,
   "metadata": {},
   "outputs": [],
   "source": [
    "from scipy import optimize"
   ]
  },
  {
   "cell_type": "code",
   "execution_count": 24,
   "metadata": {},
   "outputs": [
    {
     "name": "stdout",
     "output_type": "stream",
     "text": [
      "3.0\n"
     ]
    }
   ],
   "source": [
    "def f(x):\n",
    "\treturn (x[0] - 3.2)**2 +(x[1] -0.1) ** 2 +3\n",
    "\n",
    "print f([3.2,0.1])"
   ]
  },
  {
   "cell_type": "code",
   "execution_count": 25,
   "metadata": {},
   "outputs": [
    {
     "name": "stdout",
     "output_type": "stream",
     "text": [
      "      fun: 3.0000000000011435\n hess_inv: array([[ 0.94055055, -0.16183475],\n       [-0.16183475,  0.55944947]])\n      jac: array([ -2.05636024e-06,   5.36441803e-07])\n  message: 'Optimization terminated successfully.'\n     nfev: 16\n      nit: 3\n     njev: 4\n   status: 0\n  success: True\n        x: array([ 3.19999896,  0.10000026])\n"
     ]
    }
   ],
   "source": [
    "x_min = optimize.minimize(f,[5,5])\n",
    "print x_min"
   ]
  },
  {
   "cell_type": "code",
   "execution_count": 26,
   "metadata": {},
   "outputs": [],
   "source": [
    "from scipy import linalg"
   ]
  },
  {
   "cell_type": "code",
   "execution_count": 27,
   "metadata": {},
   "outputs": [
    {
     "name": "stdout",
     "output_type": "stream",
     "text": [
      "[ 2. -2.  9.]\n"
     ]
    }
   ],
   "source": [
    "a = np.array([[3, 2, 0],[1, -1, 0],[0, 5, 1]])\n",
    "b = np.array([2,4,-1])\n",
    "x = linalg.solve(a,b)\n",
    "print x"
   ]
  },
  {
   "cell_type": "code",
   "execution_count": 28,
   "metadata": {},
   "outputs": [],
   "source": [
    "%matplotlib inline\n",
    "import numpy as np\n",
    "import matplotlib.pyplot as plt\n",
    "from scipy import interpolate"
   ]
  },
  {
   "cell_type": "code",
   "execution_count": 40,
   "metadata": {},
   "outputs": [
    {
     "name": "stdout",
     "output_type": "stream",
     "text": [
      "[0 2 4 6 8]\n[ 0.94273798  0.55358083  0.16986597  0.17996157  0.04289035]\n"
     ]
    }
   ],
   "source": [
    "x = np.arange(0,10,2)\n",
    "y = np.exp(-x/3.0) + np.random.randn(len(x)) *0.051\n",
    "\n",
    "print x[:5]\n",
    "print y[:5]"
   ]
  },
  {
   "cell_type": "code",
   "execution_count": 41,
   "metadata": {},
   "outputs": [],
   "source": [
    "f = interpolate.interp1d(x,y,kind='quadratic')\n",
    "xnew = np.arange(0,8,0.1)\n",
    "ynew = f(xnew)"
   ]
  },
  {
   "cell_type": "code",
   "execution_count": 42,
   "metadata": {},
   "outputs": [
    {
     "data": {
      "image/png": "[encoded data removed]",
      "text/plain": [
       "<matplotlib.figure.Figure at 0x1081b4310>"
      ]
     },
     "metadata": {},
     "output_type": "display_data"
    }
   ],
   "source": [
    "plt.plot(x,y,'o',xnew,ynew,'-')\n",
    "plt.show()"
   ]
  },
  {
   "cell_type": "code",
   "execution_count": 43,
   "metadata": {},
   "outputs": [
    {
     "data": {
      "text/plain": [
       "array([[ 0.39814044,  0.2098708 ,  0.37131016,  0.81445463,  0.7158884 ],\n       [ 0.73012125,  0.90965816,  0.28998423,  0.23050998,  0.61771075],\n       [ 0.47752078,  0.84045057,  0.31537422,  0.70056651,  0.93611182],\n       [ 0.70232944,  0.42382569,  0.8653481 ,  0.09295536,  0.69650937]])"
      ]
     },
     "execution_count": 43,
     "metadata": {},
     "output_type": "execute_result"
    }
   ],
   "source": [
    "np.random.rand(4, 5)"
   ]
  },
  {
   "cell_type": "code",
   "execution_count": 48,
   "metadata": {},
   "outputs": [
    {
     "data": {
      "text/plain": [
       "numpy.ndarray"
      ]
     },
     "execution_count": 48,
     "metadata": {},
     "output_type": "execute_result"
    }
   ],
   "source": [
    "nm = np.arange(1,10,3)\n",
    "type(nm)"
   ]
  },
  {
   "cell_type": "code",
   "execution_count": 50,
   "metadata": {},
   "outputs": [
    {
     "name": "stdout",
     "output_type": "stream",
     "text": [
      "[4 7] [1 4 7]\n"
     ]
    }
   ],
   "source": [
    "print nm[nm>3],nm"
   ]
  },
  {
   "cell_type": "code",
   "execution_count": null,
   "metadata": {},
   "outputs": [],
   "source": [
    ""
   ]
  }
 ],
 "metadata": {
  "kernelspec": {
   "display_name": "Python 2",
   "language": "python",
   "name": "python2"
  },
  "language_info": {
   "codemirror_mode": {
    "name": "ipython",
    "version": 2.0
   },
   "file_extension": ".py",
   "mimetype": "text/x-python",
   "name": "python",
   "nbconvert_exporter": "python",
   "pygments_lexer": "ipython2",
   "version": "2.7.6"
  }
 },
 "nbformat": 4,
 "nbformat_minor": 0
}